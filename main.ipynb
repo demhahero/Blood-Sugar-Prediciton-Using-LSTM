{
 "cells": [
  {
   "cell_type": "markdown",
   "metadata": {},
   "source": [
    "Improting the required libraries"
   ]
  },
  {
   "cell_type": "code",
   "execution_count": 1,
   "metadata": {},
   "outputs": [],
   "source": [
    "import math\n",
    "import matplotlib.pyplot as plt\n",
    "import keras\n",
    "import pandas as pd\n",
    "import numpy as np\n",
    "from keras.models import Sequential\n",
    "from keras.layers import Dense\n",
    "from keras.layers import LSTM\n",
    "from keras.layers import Dropout\n",
    "from keras.layers import *\n",
    "from sklearn.preprocessing import MinMaxScaler\n",
    "from sklearn.metrics import mean_squared_error\n",
    "from sklearn.metrics import mean_absolute_error\n",
    "from sklearn.model_selection import train_test_split\n",
    "from keras.callbacks import EarlyStopping\n",
    "from numpy import nan"
   ]
  },
  {
   "cell_type": "markdown",
   "metadata": {},
   "source": [
    "# EDA begins"
   ]
  },
  {
   "cell_type": "code",
   "execution_count": 2,
   "metadata": {},
   "outputs": [
    {
     "data": {
      "text/plain": [
       "14702"
      ]
     },
     "execution_count": 2,
     "metadata": {},
     "output_type": "execute_result"
    }
   ],
   "source": [
    "df_blood = pd.read_csv('blood-glucose-data.csv')\n",
    "# df_blood['point_timestamp'] = pd.to_datetime(df_blood['point_timestamp'])  \n",
    "# mask = (df_blood['point_timestamp'] > '2017-5-18') & (df_blood['point_timestamp'] <= '2017-7-13')\n",
    "# df_blood = df_blood.loc[mask]\n",
    "# df_blood['point_timestamp'] = df_blood['point_timestamp'].dt.floor('T')\n",
    "# df_blood['point_timestamp'] = df_blood['point_timestamp'].dt.floor('Min')\n",
    "len(df_blood)"
   ]
  },
  {
   "cell_type": "code",
   "execution_count": 3,
   "metadata": {},
   "outputs": [
    {
     "name": "stdout",
     "output_type": "stream",
     "text": [
      "<class 'pandas.core.frame.DataFrame'>\n",
      "RangeIndex: 14702 entries, 0 to 14701\n",
      "Data columns (total 3 columns):\n",
      " #   Column              Non-Null Count  Dtype \n",
      "---  ------              --------------  ----- \n",
      " 0   point_value(mg/dL)  14702 non-null  int64 \n",
      " 1   point_timestamp     14702 non-null  object\n",
      " 2   timezone_offset     14702 non-null  int64 \n",
      "dtypes: int64(2), object(1)\n",
      "memory usage: 344.7+ KB\n"
     ]
    }
   ],
   "source": [
    "df_blood.info()"
   ]
  },
  {
   "cell_type": "code",
   "execution_count": 4,
   "metadata": {},
   "outputs": [
    {
     "data": {
      "text/html": [
       "<div>\n",
       "<style scoped>\n",
       "    .dataframe tbody tr th:only-of-type {\n",
       "        vertical-align: middle;\n",
       "    }\n",
       "\n",
       "    .dataframe tbody tr th {\n",
       "        vertical-align: top;\n",
       "    }\n",
       "\n",
       "    .dataframe thead th {\n",
       "        text-align: right;\n",
       "    }\n",
       "</style>\n",
       "<table border=\"1\" class=\"dataframe\">\n",
       "  <thead>\n",
       "    <tr style=\"text-align: right;\">\n",
       "      <th></th>\n",
       "      <th>point_value(mg/dL)</th>\n",
       "      <th>point_timestamp</th>\n",
       "      <th>timezone_offset</th>\n",
       "    </tr>\n",
       "  </thead>\n",
       "  <tbody>\n",
       "    <tr>\n",
       "      <th>0</th>\n",
       "      <td>142</td>\n",
       "      <td>2017-05-15 07:51:22</td>\n",
       "      <td>-700</td>\n",
       "    </tr>\n",
       "    <tr>\n",
       "      <th>1</th>\n",
       "      <td>140</td>\n",
       "      <td>2017-05-15 07:56:23</td>\n",
       "      <td>-700</td>\n",
       "    </tr>\n",
       "    <tr>\n",
       "      <th>2</th>\n",
       "      <td>138</td>\n",
       "      <td>2017-05-15 08:01:22</td>\n",
       "      <td>-700</td>\n",
       "    </tr>\n",
       "    <tr>\n",
       "      <th>3</th>\n",
       "      <td>136</td>\n",
       "      <td>2017-05-15 08:06:22</td>\n",
       "      <td>-700</td>\n",
       "    </tr>\n",
       "    <tr>\n",
       "      <th>4</th>\n",
       "      <td>130</td>\n",
       "      <td>2017-05-15 08:11:23</td>\n",
       "      <td>-700</td>\n",
       "    </tr>\n",
       "  </tbody>\n",
       "</table>\n",
       "</div>"
      ],
      "text/plain": [
       "   point_value(mg/dL)      point_timestamp  timezone_offset\n",
       "0                 142  2017-05-15 07:51:22             -700\n",
       "1                 140  2017-05-15 07:56:23             -700\n",
       "2                 138  2017-05-15 08:01:22             -700\n",
       "3                 136  2017-05-15 08:06:22             -700\n",
       "4                 130  2017-05-15 08:11:23             -700"
      ]
     },
     "execution_count": 4,
     "metadata": {},
     "output_type": "execute_result"
    }
   ],
   "source": [
    "df_blood.head()"
   ]
  },
  {
   "cell_type": "code",
   "execution_count": 5,
   "metadata": {},
   "outputs": [
    {
     "data": {
      "text/html": [
       "<div>\n",
       "<style scoped>\n",
       "    .dataframe tbody tr th:only-of-type {\n",
       "        vertical-align: middle;\n",
       "    }\n",
       "\n",
       "    .dataframe tbody tr th {\n",
       "        vertical-align: top;\n",
       "    }\n",
       "\n",
       "    .dataframe thead th {\n",
       "        text-align: right;\n",
       "    }\n",
       "</style>\n",
       "<table border=\"1\" class=\"dataframe\">\n",
       "  <thead>\n",
       "    <tr style=\"text-align: right;\">\n",
       "      <th></th>\n",
       "      <th>point_value(mg/dL)</th>\n",
       "      <th>point_timestamp</th>\n",
       "      <th>timezone_offset</th>\n",
       "    </tr>\n",
       "  </thead>\n",
       "  <tbody>\n",
       "    <tr>\n",
       "      <th>14697</th>\n",
       "      <td>216</td>\n",
       "      <td>2017-07-15 07:29:50</td>\n",
       "      <td>-700</td>\n",
       "    </tr>\n",
       "    <tr>\n",
       "      <th>14698</th>\n",
       "      <td>220</td>\n",
       "      <td>2017-07-15 07:34:51</td>\n",
       "      <td>-700</td>\n",
       "    </tr>\n",
       "    <tr>\n",
       "      <th>14699</th>\n",
       "      <td>220</td>\n",
       "      <td>2017-07-15 07:39:50</td>\n",
       "      <td>-700</td>\n",
       "    </tr>\n",
       "    <tr>\n",
       "      <th>14700</th>\n",
       "      <td>223</td>\n",
       "      <td>2017-07-15 07:44:50</td>\n",
       "      <td>-700</td>\n",
       "    </tr>\n",
       "    <tr>\n",
       "      <th>14701</th>\n",
       "      <td>225</td>\n",
       "      <td>2017-07-15 07:49:50</td>\n",
       "      <td>-700</td>\n",
       "    </tr>\n",
       "  </tbody>\n",
       "</table>\n",
       "</div>"
      ],
      "text/plain": [
       "       point_value(mg/dL)      point_timestamp  timezone_offset\n",
       "14697                 216  2017-07-15 07:29:50             -700\n",
       "14698                 220  2017-07-15 07:34:51             -700\n",
       "14699                 220  2017-07-15 07:39:50             -700\n",
       "14700                 223  2017-07-15 07:44:50             -700\n",
       "14701                 225  2017-07-15 07:49:50             -700"
      ]
     },
     "execution_count": 5,
     "metadata": {},
     "output_type": "execute_result"
    }
   ],
   "source": [
    "df_blood.tail()"
   ]
  },
  {
   "cell_type": "code",
   "execution_count": 6,
   "metadata": {},
   "outputs": [
    {
     "data": {
      "text/plain": [
       "point_value(mg/dL)     int64\n",
       "point_timestamp       object\n",
       "timezone_offset        int64\n",
       "dtype: object"
      ]
     },
     "execution_count": 6,
     "metadata": {},
     "output_type": "execute_result"
    }
   ],
   "source": [
    "df_blood.dtypes"
   ]
  },
  {
   "cell_type": "code",
   "execution_count": 7,
   "metadata": {},
   "outputs": [
    {
     "data": {
      "text/plain": [
       "False"
      ]
     },
     "execution_count": 7,
     "metadata": {},
     "output_type": "execute_result"
    }
   ],
   "source": [
    "df_blood.isnull().values.any()"
   ]
  },
  {
   "cell_type": "code",
   "execution_count": 8,
   "metadata": {},
   "outputs": [
    {
     "data": {
      "text/plain": [
       "<AxesSubplot:>"
      ]
     },
     "execution_count": 8,
     "metadata": {},
     "output_type": "execute_result"
    },
    {
     "data": {
      "image/png": "[encoded data removed]",
      "text/plain": [
       "<Figure size 432x288 with 1 Axes>"
      ]
     },
     "metadata": {
      "needs_background": "light"
     },
     "output_type": "display_data"
    }
   ],
   "source": [
    "df_blood.boxplot(column=[\"point_value(mg/dL)\"])"
   ]
  },
  {
   "cell_type": "code",
   "execution_count": 9,
   "metadata": {},
   "outputs": [
    {
     "data": {
      "text/plain": [
       "<AxesSubplot:ylabel='Frequency'>"
      ]
     },
     "execution_count": 9,
     "metadata": {},
     "output_type": "execute_result"
    },
    {
     "data": {
      "image/png": "[encoded data removed]",
      "text/plain": [
       "<Figure size 432x288 with 1 Axes>"
      ]
     },
     "metadata": {
      "needs_background": "light"
     },
     "output_type": "display_data"
    }
   ],
   "source": [
    "df_blood[\"point_value(mg/dL)\"].plot.hist()"
   ]
  },
  {
   "cell_type": "markdown",
   "metadata": {},
   "source": [
    "# Checking the number of missing datetime entries."
   ]
  },
  {
   "cell_type": "code",
   "execution_count": 19,
   "metadata": {},
   "outputs": [
    {
     "name": "stdout",
     "output_type": "stream",
     "text": [
      "no missing times 2868  |  16.323278315310187 %\n",
      "no impacted days 2868\n",
      "                datetime missing\n",
      "0    2017-05-16 00:41:21       1\n",
      "1    2017-05-16 00:46:21       1\n",
      "2    2017-05-16 00:51:21       1\n",
      "3    2017-05-16 00:56:21       1\n",
      "4    2017-05-16 01:01:21       1\n",
      "...                  ...     ...\n",
      "2863 2017-07-10 04:50:13       1\n",
      "2864 2017-07-10 04:55:13       1\n",
      "2865 2017-07-10 05:00:13       1\n",
      "2866 2017-07-13 18:19:57       1\n",
      "2867 2017-07-13 18:24:57       1\n",
      "\n",
      "[2868 rows x 2 columns]\n",
      "2017-05-25 15:23:07 -- 2017-05-30 05:17:49\n",
      "<class 'pandas.core.frame.DataFrame'>\n",
      "Int64Index: 2868 entries, 0 to 2867\n",
      "Data columns (total 2 columns):\n",
      " #   Column    Non-Null Count  Dtype         \n",
      "---  ------    --------------  -----         \n",
      " 0   datetime  2868 non-null   datetime64[ns]\n",
      " 1   missing   2868 non-null   object        \n",
      "dtypes: datetime64[ns](1), object(1)\n",
      "memory usage: 147.2+ KB\n"
     ]
    }
   ],
   "source": [
    "from datetime import datetime\n",
    "current = 0\n",
    "counter = 0\n",
    "\n",
    "days = pd.DataFrame (columns = ['datetime','missing'])\n",
    "largest_sample = 0\n",
    "start = None\n",
    "end = None \n",
    "for i in df_blood[\"point_timestamp\"]:\n",
    "    i = pd.to_datetime(i)\n",
    "    if(current == 0):\n",
    "        current = i\n",
    "        continue\n",
    "        \n",
    "    while(i > current + pd.to_timedelta(5.5,unit='m')):\n",
    "        counter += 1\n",
    "        current = current + pd.to_timedelta(5,unit='m')\n",
    "        #if(current.date() not in days.datetime):\n",
    "        days.loc[len(days)] = [current, 1]  # adding a row\n",
    "        if(counter > 1):\n",
    "            date2 = datetime.strptime(str(days.loc[counter-1, \"datetime\"]) , '%Y-%m-%d %H:%M:%S')\n",
    "            date1 = datetime.strptime(str(days.loc[counter-2, \"datetime\"]), '%Y-%m-%d %H:%M:%S')\n",
    "\n",
    "            if(date2.timestamp() - date1.timestamp() > largest_sample):\n",
    "                largest_sample = date2.timestamp() - date1.timestamp()\n",
    "                start = days.loc[counter-2, \"datetime\"]\n",
    "                end = days.loc[counter-1, \"datetime\"]\n",
    "    \n",
    "\n",
    "    current = i\n",
    "    \n",
    "print(\"no missing times\", counter, \" | \", (counter/(len(df_blood)+counter))*100,\"%\")\n",
    "print(\"no impacted days\", len(days))\n",
    "print(days)\n",
    "days.to_csv(\"missing.csv\")\n",
    "print (start, \"--\" , end)\n",
    "days.info()"
   ]
  },
  {
   "cell_type": "code",
   "execution_count": 21,
   "metadata": {},
   "outputs": [],
   "source": [
    "df_blood['point_timestamp'] = pd.to_datetime(df_blood['point_timestamp'])\n",
    "df_blood['hour'] = df_blood['point_timestamp'].dt.hour\n",
    "df_blood['minute'] = df_blood['point_timestamp'].dt.minute\n",
    "df_blood['day'] = df_blood['point_timestamp'].dt.day\n",
    "df_blood['month'] = df_blood['point_timestamp'].dt.month\n",
    "df_blood = df_blood.rename(columns={'point_value(mg/dL)': 'sugar'})"
   ]
  },
  {
   "cell_type": "code",
   "execution_count": 22,
   "metadata": {},
   "outputs": [
    {
     "data": {
      "text/html": [
       "<div>\n",
       "<style scoped>\n",
       "    .dataframe tbody tr th:only-of-type {\n",
       "        vertical-align: middle;\n",
       "    }\n",
       "\n",
       "    .dataframe tbody tr th {\n",
       "        vertical-align: top;\n",
       "    }\n",
       "\n",
       "    .dataframe thead th {\n",
       "        text-align: right;\n",
       "    }\n",
       "</style>\n",
       "<table border=\"1\" class=\"dataframe\">\n",
       "  <thead>\n",
       "    <tr style=\"text-align: right;\">\n",
       "      <th></th>\n",
       "      <th>sugar</th>\n",
       "      <th>hour</th>\n",
       "      <th>minute</th>\n",
       "      <th>day</th>\n",
       "      <th>month</th>\n",
       "    </tr>\n",
       "  </thead>\n",
       "  <tbody>\n",
       "    <tr>\n",
       "      <th>0</th>\n",
       "      <td>142</td>\n",
       "      <td>7</td>\n",
       "      <td>51</td>\n",
       "      <td>15</td>\n",
       "      <td>5</td>\n",
       "    </tr>\n",
       "    <tr>\n",
       "      <th>1</th>\n",
       "      <td>140</td>\n",
       "      <td>7</td>\n",
       "      <td>56</td>\n",
       "      <td>15</td>\n",
       "      <td>5</td>\n",
       "    </tr>\n",
       "    <tr>\n",
       "      <th>2</th>\n",
       "      <td>138</td>\n",
       "      <td>8</td>\n",
       "      <td>1</td>\n",
       "      <td>15</td>\n",
       "      <td>5</td>\n",
       "    </tr>\n",
       "    <tr>\n",
       "      <th>3</th>\n",
       "      <td>136</td>\n",
       "      <td>8</td>\n",
       "      <td>6</td>\n",
       "      <td>15</td>\n",
       "      <td>5</td>\n",
       "    </tr>\n",
       "    <tr>\n",
       "      <th>4</th>\n",
       "      <td>130</td>\n",
       "      <td>8</td>\n",
       "      <td>11</td>\n",
       "      <td>15</td>\n",
       "      <td>5</td>\n",
       "    </tr>\n",
       "  </tbody>\n",
       "</table>\n",
       "</div>"
      ],
      "text/plain": [
       "   sugar  hour  minute  day  month\n",
       "0    142     7      51   15      5\n",
       "1    140     7      56   15      5\n",
       "2    138     8       1   15      5\n",
       "3    136     8       6   15      5\n",
       "4    130     8      11   15      5"
      ]
     },
     "execution_count": 22,
     "metadata": {},
     "output_type": "execute_result"
    }
   ],
   "source": [
    "del df_blood['point_timestamp']\n",
    "del df_blood['timezone_offset']\n",
    "df_blood.head()"
   ]
  },
  {
   "cell_type": "code",
   "execution_count": 23,
   "metadata": {},
   "outputs": [
    {
     "data": {
      "image/png": "[encoded data removed]",
      "text/plain": [
       "<Figure size 432x288 with 2 Axes>"
      ]
     },
     "metadata": {
      "needs_background": "light"
     },
     "output_type": "display_data"
    }
   ],
   "source": [
    "import seaborn as sn\n",
    "s = df_blood.corr()\n",
    "sn.heatmap(s, annot=True)\n",
    "plt.show()"
   ]
  },
  {
   "cell_type": "code",
   "execution_count": 25,
   "metadata": {
    "scrolled": true
   },
   "outputs": [],
   "source": [
    "df_heart = pd.read_csv('heart-rate-data.csv')\n",
    "df_heart['point_timestamp'] = pd.to_datetime(df_heart['point_timestamp'])  \n",
    "df_heart['point_timestamp'] = df_heart['point_timestamp'].dt.floor('T')\n",
    "df_heart['point_timestamp'] = df_heart['point_timestamp'].dt.floor('Min')"
   ]
  },
  {
   "cell_type": "code",
   "execution_count": 27,
   "metadata": {},
   "outputs": [],
   "source": [
    "#ids = df_m[\"point_timestamp\"]\n",
    "#df_m[ids.isin(ids[ids.duplicated()])].sort_values(\"point_timestamp\")"
   ]
  },
  {
   "cell_type": "code",
   "execution_count": 28,
   "metadata": {},
   "outputs": [],
   "source": [
    "#df_m.head()"
   ]
  },
  {
   "cell_type": "code",
   "execution_count": 29,
   "metadata": {},
   "outputs": [],
   "source": [
    "#df_m.tail()"
   ]
  },
  {
   "cell_type": "code",
   "execution_count": 30,
   "metadata": {},
   "outputs": [
    {
     "data": {
      "text/plain": [
       "16128"
      ]
     },
     "execution_count": 30,
     "metadata": {},
     "output_type": "execute_result"
    }
   ],
   "source": [
    "from datetime import date, datetime, timedelta\n",
    "\n",
    "def datetime_range(start, end, delta):\n",
    "    current = start\n",
    "    if not isinstance(delta, timedelta):\n",
    "        delta = timedelta(**delta)\n",
    "    while current < end:\n",
    "        yield current\n",
    "        current += delta\n",
    "\n",
    "\n",
    "start = datetime(2017,5,18, 0, 3)\n",
    "end = datetime(2017,7,13)\n",
    "arr = []\n",
    "#this unlocks the following interface:\n",
    "for dt in datetime_range(start, end, {'minutes':5}):\n",
    "    arr.append(dt)\n",
    "len(arr)"
   ]
  },
  {
   "cell_type": "code",
   "execution_count": 31,
   "metadata": {},
   "outputs": [],
   "source": [
    "#Set Parameters\n",
    "training_split = 2 * 7 * 288 #training set for 2 weeks\n",
    "validation_split = 6 * 288 # validation for 6 days\n",
    "testing_split = 5 * 7 * 288 # testing for 5 weeks"
   ]
  },
  {
   "cell_type": "code",
   "execution_count": 33,
   "metadata": {},
   "outputs": [],
   "source": [
    "#Construct data sets\n",
    "training_set = df_blood.iloc[0:training_split].values\n",
    "validation_set = df_blood.iloc[training_split:validation_split].values\n",
    "test_set = df_blood.iloc[validation_split:testing_split].values"
   ]
  },
  {
   "cell_type": "code",
   "execution_count": 34,
   "metadata": {},
   "outputs": [
    {
     "data": {
      "text/plain": [
       "array([142], dtype=int64)"
      ]
     },
     "execution_count": 34,
     "metadata": {},
     "output_type": "execute_result"
    }
   ],
   "source": [
    "training_set[0:1, 0]"
   ]
  },
  {
   "cell_type": "code",
   "execution_count": 35,
   "metadata": {},
   "outputs": [],
   "source": [
    "lag = 12\n",
    "# Creating a data structure with 12 readings and 1 output\n",
    "X_train = []\n",
    "y_train = []\n",
    "for i in range(lag+lag, len(training_set)-lag):\n",
    "    X_train.append(training_set[i-lag:i, 0])\n",
    "    y_train.append(training_set[i+lag, 0])\n",
    "X_train, y_train = np.array(X_train).astype('float32'), np.array(y_train).astype('float32')\n",
    "\n",
    "X_train = np.reshape(X_train, (X_train.shape[0], X_train.shape[1], 1))"
   ]
  },
  {
   "cell_type": "code",
   "execution_count": 36,
   "metadata": {},
   "outputs": [
    {
     "name": "stdout",
     "output_type": "stream",
     "text": [
      "Epoch 1/200\n",
      "125/125 [==============================] - 6s 10ms/step - loss: 35797.9157 - accuracy: 0.0000e+00\n",
      "Epoch 2/200\n",
      "125/125 [==============================] - 1s 10ms/step - loss: 31088.4841 - accuracy: 0.0000e+00\n",
      "Epoch 3/200\n",
      "125/125 [==============================] - 1s 10ms/step - loss: 29524.1716 - accuracy: 0.0000e+00\n",
      "Epoch 4/200\n",
      "125/125 [==============================] - 1s 10ms/step - loss: 27178.1079 - accuracy: 0.0000e+00\n",
      "Epoch 5/200\n",
      "125/125 [==============================] - 1s 10ms/step - loss: 26465.4291 - accuracy: 0.0000e+00\n",
      "Epoch 6/200\n",
      "125/125 [==============================] - 1s 10ms/step - loss: 24427.6892 - accuracy: 0.0000e+00\n",
      "Epoch 7/200\n",
      "125/125 [==============================] - 1s 10ms/step - loss: 22271.0863 - accuracy: 0.0000e+00\n",
      "Epoch 8/200\n",
      "125/125 [==============================] - 1s 10ms/step - loss: 21228.2044 - accuracy: 0.0000e+00\n",
      "Epoch 9/200\n",
      "125/125 [==============================] - 1s 10ms/step - loss: 20347.1751 - accuracy: 0.0000e+00\n",
      "Epoch 10/200\n",
      "125/125 [==============================] - 1s 10ms/step - loss: 19236.8405 - accuracy: 0.0000e+00\n",
      "Epoch 11/200\n",
      "125/125 [==============================] - 1s 10ms/step - loss: 18174.7957 - accuracy: 0.0000e+00\n",
      "Epoch 12/200\n",
      "125/125 [==============================] - 1s 10ms/step - loss: 17479.9129 - accuracy: 0.0000e+00\n",
      "Epoch 13/200\n",
      "125/125 [==============================] - 1s 10ms/step - loss: 15291.1933 - accuracy: 0.0000e+00\n",
      "Epoch 14/200\n",
      "125/125 [==============================] - 1s 10ms/step - loss: 14656.9449 - accuracy: 0.0000e+00\n",
      "Epoch 15/200\n",
      "125/125 [==============================] - 1s 10ms/step - loss: 14336.3313 - accuracy: 0.0000e+00\n",
      "Epoch 16/200\n",
      "125/125 [==============================] - 1s 10ms/step - loss: 13286.9694 - accuracy: 0.0000e+00\n",
      "Epoch 17/200\n",
      "125/125 [==============================] - 1s 11ms/step - loss: 12405.5469 - accuracy: 0.0000e+00\n",
      "Epoch 18/200\n",
      "125/125 [==============================] - 1s 10ms/step - loss: 12091.5923 - accuracy: 0.0000e+00\n",
      "Epoch 19/200\n",
      "125/125 [==============================] - 1s 10ms/step - loss: 10969.6464 - accuracy: 0.0000e+00 0s - loss: 10916.2287 - accuracy: \n",
      "Epoch 20/200\n",
      "125/125 [==============================] - 1s 10ms/step - loss: 10454.8766 - accuracy: 0.0000e+00 \n",
      "Epoch 21/200\n",
      "125/125 [==============================] - 1s 11ms/step - loss: 10497.9331 - accuracy: 0.0000e+00\n",
      "Epoch 22/200\n",
      "125/125 [==============================] - 2s 12ms/step - loss: 9526.8725 - accuracy: 0.0000e+00\n",
      "Epoch 23/200\n",
      "125/125 [==============================] - 1s 11ms/step - loss: 9026.7064 - accuracy: 0.0000e+00\n",
      "Epoch 24/200\n",
      "125/125 [==============================] - 1s 10ms/step - loss: 9201.2837 - accuracy: 0.0000e+00\n",
      "Epoch 25/200\n",
      "125/125 [==============================] - 1s 10ms/step - loss: 8433.6295 - accuracy: 0.0000e+00\n",
      "Epoch 26/200\n",
      "125/125 [==============================] - 1s 12ms/step - loss: 8488.4129 - accuracy: 0.0000e+00\n",
      "Epoch 27/200\n",
      "125/125 [==============================] - 2s 13ms/step - loss: 7582.6205 - accuracy: 0.0000e+00\n",
      "Epoch 28/200\n",
      "125/125 [==============================] - 1s 11ms/step - loss: 8292.8536 - accuracy: 0.0000e+00\n",
      "Epoch 29/200\n",
      "125/125 [==============================] - 1s 11ms/step - loss: 7915.9993 - accuracy: 0.0000e+00\n",
      "Epoch 30/200\n",
      "125/125 [==============================] - 1s 10ms/step - loss: 7344.0457 - accuracy: 0.0000e+00: 0s - loss: 7110.4649 - acc\n",
      "Epoch 31/200\n",
      "125/125 [==============================] - 1s 11ms/step - loss: 7381.2264 - accuracy: 0.0000e+00\n",
      "Epoch 32/200\n",
      "125/125 [==============================] - 1s 10ms/step - loss: 7639.3935 - accuracy: 0.0000e+00\n",
      "Epoch 33/200\n",
      "125/125 [==============================] - 1s 10ms/step - loss: 6937.5450 - accuracy: 0.0000e+00\n",
      "Epoch 34/200\n",
      "125/125 [==============================] - 1s 11ms/step - loss: 6970.5395 - accuracy: 0.0000e+00\n",
      "Epoch 35/200\n",
      "125/125 [==============================] - 1s 10ms/step - loss: 7201.6846 - accuracy: 0.0000e+00\n",
      "Epoch 36/200\n",
      "125/125 [==============================] - 1s 11ms/step - loss: 7437.1330 - accuracy: 0.0000e+00\n",
      "Epoch 37/200\n",
      "125/125 [==============================] - 1s 10ms/step - loss: 7130.0168 - accuracy: 0.0000e+00\n",
      "Epoch 38/200\n",
      "125/125 [==============================] - 1s 10ms/step - loss: 6854.0006 - accuracy: 0.0000e+00\n",
      "Epoch 39/200\n",
      "125/125 [==============================] - 1s 10ms/step - loss: 7096.7639 - accuracy: 0.0000e+00: 0s - loss: 7088.8520 - accuracy: \n",
      "Epoch 40/200\n",
      "125/125 [==============================] - 1s 10ms/step - loss: 6846.1302 - accuracy: 0.0000e+00\n",
      "Epoch 41/200\n",
      "125/125 [==============================] - 1s 10ms/step - loss: 7114.1205 - accuracy: 0.0000e+00\n",
      "Epoch 42/200\n",
      "125/125 [==============================] - 1s 10ms/step - loss: 6906.0485 - accuracy: 0.0000e+00\n",
      "Epoch 43/200\n",
      "125/125 [==============================] - 1s 10ms/step - loss: 6621.2389 - accuracy: 0.0000e+00\n",
      "Epoch 44/200\n",
      "125/125 [==============================] - 1s 10ms/step - loss: 5700.3292 - accuracy: 0.0000e+00\n",
      "Epoch 45/200\n",
      "125/125 [==============================] - 1s 10ms/step - loss: 5495.9892 - accuracy: 0.0000e+00: 0s - loss: 5740.2426 - acc\n",
      "Epoch 46/200\n",
      "125/125 [==============================] - 1s 10ms/step - loss: 4929.4545 - accuracy: 0.0000e+00\n",
      "Epoch 47/200\n",
      "125/125 [==============================] - 1s 11ms/step - loss: 4693.3097 - accuracy: 0.0000e+00\n",
      "Epoch 48/200\n",
      "125/125 [==============================] - 1s 10ms/step - loss: 4433.1136 - accuracy: 0.0000e+00\n",
      "Epoch 49/200\n",
      "125/125 [==============================] - 1s 10ms/step - loss: 4374.7712 - accuracy: 0.0000e+00\n",
      "Epoch 50/200\n",
      "125/125 [==============================] - 1s 10ms/step - loss: 4019.5699 - accuracy: 0.0000e+00\n",
      "Epoch 51/200\n",
      "125/125 [==============================] - 1s 10ms/step - loss: 3896.2179 - accuracy: 0.0000e+00\n",
      "Epoch 52/200\n",
      "125/125 [==============================] - 1s 10ms/step - loss: 3857.6782 - accuracy: 0.0000e+00\n",
      "Epoch 53/200\n",
      "125/125 [==============================] - 1s 10ms/step - loss: 3612.1828 - accuracy: 0.0000e+00\n",
      "Epoch 54/200\n",
      "125/125 [==============================] - 1s 10ms/step - loss: 3493.1158 - accuracy: 0.0000e+00: 0s - loss: 3466.9797 - accuracy: 0.\n",
      "Epoch 55/200\n",
      "125/125 [==============================] - 1s 10ms/step - loss: 3362.6091 - accuracy: 0.0000e+00\n",
      "Epoch 56/200\n",
      "125/125 [==============================] - 1s 10ms/step - loss: 3588.0635 - accuracy: 0.0000e+00\n",
      "Epoch 57/200\n",
      "125/125 [==============================] - 1s 10ms/step - loss: 3100.3475 - accuracy: 0.0000e+00\n",
      "Epoch 58/200\n",
      "125/125 [==============================] - 1s 10ms/step - loss: 3174.6564 - accuracy: 0.0000e+00\n",
      "Epoch 59/200\n",
      "125/125 [==============================] - 1s 10ms/step - loss: 3280.7247 - accuracy: 0.0000e+00\n",
      "Epoch 60/200\n",
      "125/125 [==============================] - 1s 10ms/step - loss: 3106.1054 - accuracy: 0.0000e+00\n",
      "Epoch 61/200\n",
      "125/125 [==============================] - 1s 10ms/step - loss: 3016.0440 - accuracy: 0.0000e+00\n",
      "Epoch 62/200\n",
      "125/125 [==============================] - 1s 10ms/step - loss: 2903.3986 - accuracy: 0.0000e+00\n",
      "Epoch 63/200\n",
      "125/125 [==============================] - 1s 10ms/step - loss: 2924.2457 - accuracy: 0.0000e+00\n",
      "Epoch 64/200\n",
      "125/125 [==============================] - 1s 11ms/step - loss: 3027.6183 - accuracy: 0.0000e+00\n",
      "Epoch 65/200\n",
      "125/125 [==============================] - 1s 11ms/step - loss: 3017.5124 - accuracy: 0.0000e+00\n",
      "Epoch 66/200\n",
      "125/125 [==============================] - 1s 10ms/step - loss: 2809.0467 - accuracy: 0.0000e+00\n",
      "Epoch 67/200\n",
      "125/125 [==============================] - 1s 10ms/step - loss: 2641.5377 - accuracy: 0.0000e+00\n",
      "Epoch 68/200\n",
      "125/125 [==============================] - 1s 11ms/step - loss: 2740.7965 - accuracy: 0.0000e+00\n",
      "Epoch 69/200\n",
      "125/125 [==============================] - 1s 10ms/step - loss: 2653.6930 - accuracy: 0.0000e+00\n",
      "Epoch 70/200\n",
      "125/125 [==============================] - 1s 10ms/step - loss: 2631.0834 - accuracy: 0.0000e+00\n",
      "Epoch 71/200\n",
      "125/125 [==============================] - 1s 10ms/step - loss: 2537.9788 - accuracy: 0.0000e+00\n",
      "Epoch 72/200\n",
      "125/125 [==============================] - 1s 10ms/step - loss: 2465.0625 - accuracy: 0.0000e+00\n",
      "Epoch 73/200\n"
     ]
    },
    {
     "name": "stdout",
     "output_type": "stream",
     "text": [
      "125/125 [==============================] - 1s 11ms/step - loss: 2694.9609 - accuracy: 0.0000e+00\n",
      "Epoch 74/200\n",
      "125/125 [==============================] - 1s 10ms/step - loss: 2600.4673 - accuracy: 0.0000e+00\n",
      "Epoch 75/200\n",
      "125/125 [==============================] - 1s 10ms/step - loss: 2517.4049 - accuracy: 0.0000e+00\n",
      "Epoch 76/200\n",
      "125/125 [==============================] - 1s 10ms/step - loss: 2523.1254 - accuracy: 0.0000e+00\n",
      "Epoch 77/200\n",
      "125/125 [==============================] - 1s 10ms/step - loss: 2555.1191 - accuracy: 0.0000e+00\n",
      "Epoch 78/200\n",
      "125/125 [==============================] - 1s 11ms/step - loss: 2396.5687 - accuracy: 0.0000e+00\n",
      "Epoch 79/200\n",
      "125/125 [==============================] - 1s 10ms/step - loss: 2426.4312 - accuracy: 0.0000e+00\n",
      "Epoch 80/200\n",
      "125/125 [==============================] - 1s 10ms/step - loss: 2455.0619 - accuracy: 0.0000e+00\n",
      "Epoch 81/200\n",
      "125/125 [==============================] - 1s 10ms/step - loss: 2420.0568 - accuracy: 0.0000e+00\n",
      "Epoch 82/200\n",
      "125/125 [==============================] - 1s 10ms/step - loss: 2296.7058 - accuracy: 0.0000e+00\n",
      "Epoch 83/200\n",
      "125/125 [==============================] - 1s 10ms/step - loss: 2393.7377 - accuracy: 0.0000e+00\n",
      "Epoch 84/200\n",
      "125/125 [==============================] - 1s 11ms/step - loss: 2310.7445 - accuracy: 0.0000e+00\n",
      "Epoch 85/200\n",
      "125/125 [==============================] - 1s 10ms/step - loss: 2260.8615 - accuracy: 0.0000e+00\n",
      "Epoch 86/200\n",
      "125/125 [==============================] - 1s 10ms/step - loss: 2306.9341 - accuracy: 0.0000e+00\n",
      "Epoch 87/200\n",
      "125/125 [==============================] - 1s 10ms/step - loss: 2176.7605 - accuracy: 0.0000e+00\n",
      "Epoch 88/200\n",
      "125/125 [==============================] - 1s 10ms/step - loss: 2308.1909 - accuracy: 0.0000e+00\n",
      "Epoch 89/200\n",
      "125/125 [==============================] - 1s 10ms/step - loss: 2265.8552 - accuracy: 0.0000e+00\n",
      "Epoch 90/200\n",
      "125/125 [==============================] - 1s 10ms/step - loss: 2278.3802 - accuracy: 0.0000e+00\n",
      "Epoch 91/200\n",
      "125/125 [==============================] - 1s 10ms/step - loss: 2362.4466 - accuracy: 0.0000e+00: 0s - loss: 2399.0725 - accuracy: 0\n",
      "Epoch 92/200\n",
      "125/125 [==============================] - 1s 10ms/step - loss: 2266.0156 - accuracy: 0.0000e+00\n",
      "Epoch 93/200\n",
      "125/125 [==============================] - 1s 10ms/step - loss: 2227.8444 - accuracy: 0.0000e+00\n",
      "Epoch 94/200\n",
      "125/125 [==============================] - 1s 10ms/step - loss: 2173.5667 - accuracy: 0.0000e+00\n",
      "Epoch 95/200\n",
      "125/125 [==============================] - 1s 10ms/step - loss: 2271.8333 - accuracy: 0.0000e+00\n",
      "Epoch 96/200\n",
      "125/125 [==============================] - 1s 10ms/step - loss: 2248.7765 - accuracy: 0.0000e+00\n",
      "Epoch 97/200\n",
      "125/125 [==============================] - 1s 11ms/step - loss: 2366.7953 - accuracy: 0.0000e+00\n",
      "Epoch 98/200\n",
      "125/125 [==============================] - 1s 11ms/step - loss: 2279.5870 - accuracy: 0.0000e+00\n",
      "Epoch 99/200\n",
      "125/125 [==============================] - 1s 11ms/step - loss: 2301.7629 - accuracy: 0.0000e+00\n",
      "Epoch 100/200\n",
      "125/125 [==============================] - 1s 10ms/step - loss: 2237.1847 - accuracy: 0.0000e+00\n",
      "Epoch 101/200\n",
      "125/125 [==============================] - 1s 12ms/step - loss: 2357.6095 - accuracy: 0.0000e+00\n",
      "Epoch 102/200\n",
      "125/125 [==============================] - 1s 12ms/step - loss: 2245.2834 - accuracy: 0.0000e+00\n",
      "Epoch 103/200\n",
      "125/125 [==============================] - 1s 11ms/step - loss: 2283.5959 - accuracy: 0.0000e+00\n",
      "Epoch 104/200\n",
      "125/125 [==============================] - 1s 10ms/step - loss: 2267.5198 - accuracy: 0.0000e+00\n",
      "Epoch 105/200\n",
      "125/125 [==============================] - 1s 10ms/step - loss: 2156.2440 - accuracy: 0.0000e+00\n",
      "Epoch 106/200\n",
      "125/125 [==============================] - 1s 10ms/step - loss: 2187.5452 - accuracy: 0.0000e+00\n",
      "Epoch 107/200\n",
      "125/125 [==============================] - 1s 10ms/step - loss: 2220.5828 - accuracy: 0.0000e+00\n",
      "Epoch 108/200\n",
      "125/125 [==============================] - 1s 10ms/step - loss: 2305.8380 - accuracy: 0.0000e+00\n",
      "Epoch 109/200\n",
      "125/125 [==============================] - 1s 10ms/step - loss: 2284.1482 - accuracy: 0.0000e+00\n",
      "Epoch 110/200\n",
      "125/125 [==============================] - 1s 10ms/step - loss: 2106.4826 - accuracy: 0.0000e+00\n",
      "Epoch 111/200\n",
      "125/125 [==============================] - 1s 10ms/step - loss: 2174.8010 - accuracy: 0.0000e+00\n",
      "Epoch 112/200\n",
      "125/125 [==============================] - 1s 10ms/step - loss: 2149.6558 - accuracy: 0.0000e+00\n",
      "Epoch 113/200\n",
      "125/125 [==============================] - 1s 10ms/step - loss: 2211.5025 - accuracy: 0.0000e+00\n",
      "Epoch 114/200\n",
      "125/125 [==============================] - 1s 10ms/step - loss: 2200.2315 - accuracy: 0.0000e+00\n",
      "Epoch 115/200\n",
      "125/125 [==============================] - 1s 10ms/step - loss: 2171.6494 - accuracy: 0.0000e+00\n",
      "Epoch 116/200\n",
      "125/125 [==============================] - 1s 10ms/step - loss: 2283.7823 - accuracy: 0.0000e+00\n",
      "Epoch 117/200\n",
      "125/125 [==============================] - 1s 10ms/step - loss: 2139.8158 - accuracy: 0.0000e+00\n",
      "Epoch 118/200\n",
      "125/125 [==============================] - 1s 10ms/step - loss: 2151.5877 - accuracy: 0.0000e+00\n",
      "Epoch 119/200\n",
      "125/125 [==============================] - 1s 10ms/step - loss: 2156.8413 - accuracy: 0.0000e+00\n",
      "Epoch 120/200\n",
      "125/125 [==============================] - 1s 10ms/step - loss: 2326.0258 - accuracy: 0.0000e+00\n",
      "Epoch 121/200\n",
      "125/125 [==============================] - 1s 10ms/step - loss: 2106.8944 - accuracy: 0.0000e+00\n",
      "Epoch 122/200\n",
      "125/125 [==============================] - 1s 10ms/step - loss: 2174.6689 - accuracy: 0.0000e+00\n",
      "Epoch 123/200\n",
      "125/125 [==============================] - 1s 10ms/step - loss: 2130.3269 - accuracy: 0.0000e+00\n",
      "Epoch 124/200\n",
      "125/125 [==============================] - 1s 10ms/step - loss: 2054.6423 - accuracy: 0.0000e+00\n",
      "Epoch 125/200\n",
      "125/125 [==============================] - 1s 10ms/step - loss: 2235.4275 - accuracy: 0.0000e+00\n",
      "Epoch 126/200\n",
      "125/125 [==============================] - 1s 10ms/step - loss: 2323.1664 - accuracy: 0.0000e+00\n",
      "Epoch 127/200\n",
      "125/125 [==============================] - 1s 10ms/step - loss: 2133.0567 - accuracy: 0.0000e+00\n",
      "Epoch 128/200\n",
      "125/125 [==============================] - 1s 10ms/step - loss: 2215.2796 - accuracy: 0.0000e+00\n",
      "Epoch 129/200\n",
      "125/125 [==============================] - 1s 10ms/step - loss: 2160.2894 - accuracy: 0.0000e+00\n",
      "Epoch 130/200\n",
      "125/125 [==============================] - 1s 10ms/step - loss: 2220.2050 - accuracy: 0.0000e+00\n",
      "Epoch 131/200\n",
      "125/125 [==============================] - 1s 10ms/step - loss: 2199.2986 - accuracy: 0.0000e+00\n",
      "Epoch 132/200\n",
      "125/125 [==============================] - 1s 10ms/step - loss: 1998.2128 - accuracy: 0.0000e+00\n",
      "Epoch 133/200\n",
      "125/125 [==============================] - 1s 10ms/step - loss: 2259.1218 - accuracy: 0.0000e+00\n",
      "Epoch 134/200\n",
      "125/125 [==============================] - 1s 10ms/step - loss: 2218.3719 - accuracy: 0.0000e+00\n",
      "Epoch 135/200\n",
      "125/125 [==============================] - 1s 10ms/step - loss: 2134.4809 - accuracy: 0.0000e+00\n",
      "Epoch 136/200\n",
      "125/125 [==============================] - 1s 10ms/step - loss: 2055.0712 - accuracy: 0.0000e+00\n",
      "Epoch 137/200\n",
      "125/125 [==============================] - 1s 10ms/step - loss: 2190.5613 - accuracy: 0.0000e+00\n",
      "Epoch 138/200\n",
      "125/125 [==============================] - 1s 10ms/step - loss: 2177.2496 - accuracy: 0.0000e+00\n",
      "Epoch 139/200\n",
      "125/125 [==============================] - 1s 10ms/step - loss: 2072.6047 - accuracy: 0.0000e+00\n",
      "Epoch 140/200\n",
      "125/125 [==============================] - 1s 10ms/step - loss: 2043.0830 - accuracy: 0.0000e+00\n",
      "Epoch 141/200\n",
      "125/125 [==============================] - 1s 10ms/step - loss: 2182.1121 - accuracy: 0.0000e+00\n",
      "Epoch 142/200\n",
      "125/125 [==============================] - 1s 10ms/step - loss: 2171.3553 - accuracy: 0.0000e+00\n",
      "Epoch 143/200\n",
      "125/125 [==============================] - 1s 10ms/step - loss: 2108.1529 - accuracy: 0.0000e+00\n",
      "Epoch 144/200\n",
      "125/125 [==============================] - 1s 10ms/step - loss: 2148.9372 - accuracy: 0.0000e+00\n",
      "Epoch 145/200\n",
      "125/125 [==============================] - 1s 11ms/step - loss: 2101.3386 - accuracy: 0.0000e+00\n",
      "Epoch 146/200\n"
     ]
    },
    {
     "name": "stdout",
     "output_type": "stream",
     "text": [
      "125/125 [==============================] - 1s 11ms/step - loss: 2286.4508 - accuracy: 0.0000e+00\n",
      "Epoch 147/200\n",
      "125/125 [==============================] - 1s 11ms/step - loss: 2112.9091 - accuracy: 0.0000e+00\n",
      "Epoch 148/200\n",
      "125/125 [==============================] - 2s 12ms/step - loss: 2150.1254 - accuracy: 0.0000e+00\n",
      "Epoch 149/200\n",
      "125/125 [==============================] - 2s 12ms/step - loss: 2112.6464 - accuracy: 0.0000e+00\n",
      "Epoch 150/200\n",
      "125/125 [==============================] - 1s 12ms/step - loss: 2097.8690 - accuracy: 0.0000e+00\n",
      "Epoch 151/200\n",
      "125/125 [==============================] - 1s 11ms/step - loss: 2098.3729 - accuracy: 0.0000e+00\n",
      "Epoch 152/200\n",
      "125/125 [==============================] - 2s 12ms/step - loss: 2165.0496 - accuracy: 0.0000e+00\n",
      "Epoch 153/200\n",
      "125/125 [==============================] - 1s 11ms/step - loss: 2079.7976 - accuracy: 0.0000e+00\n",
      "Epoch 154/200\n",
      "125/125 [==============================] - 1s 11ms/step - loss: 2126.6686 - accuracy: 0.0000e+00\n",
      "Epoch 155/200\n",
      "125/125 [==============================] - 1s 10ms/step - loss: 2053.0237 - accuracy: 0.0000e+00\n",
      "Epoch 156/200\n",
      "125/125 [==============================] - 1s 10ms/step - loss: 2132.0592 - accuracy: 0.0000e+00\n",
      "Epoch 157/200\n",
      "125/125 [==============================] - 1s 10ms/step - loss: 2149.2158 - accuracy: 0.0000e+00\n",
      "Epoch 158/200\n",
      "125/125 [==============================] - 1s 10ms/step - loss: 2151.8509 - accuracy: 0.0000e+00\n",
      "Epoch 159/200\n",
      "125/125 [==============================] - 1s 10ms/step - loss: 2008.5840 - accuracy: 0.0000e+00\n",
      "Epoch 160/200\n",
      "125/125 [==============================] - 1s 10ms/step - loss: 2122.7026 - accuracy: 0.0000e+00\n",
      "Epoch 161/200\n",
      "125/125 [==============================] - 1s 10ms/step - loss: 2023.4688 - accuracy: 0.0000e+00\n",
      "Epoch 162/200\n",
      "125/125 [==============================] - 1s 11ms/step - loss: 2204.5638 - accuracy: 0.0000e+00\n",
      "Epoch 163/200\n",
      "125/125 [==============================] - 1s 10ms/step - loss: 2074.9470 - accuracy: 0.0000e+00\n",
      "Epoch 164/200\n",
      "125/125 [==============================] - 1s 10ms/step - loss: 2100.0423 - accuracy: 0.0000e+00\n",
      "Epoch 165/200\n",
      "125/125 [==============================] - 1s 11ms/step - loss: 2186.9926 - accuracy: 0.0000e+00\n",
      "Epoch 166/200\n",
      "125/125 [==============================] - 1s 11ms/step - loss: 2050.7102 - accuracy: 0.0000e+00: 0s - loss: 2045.6660 - accuracy: 0.0\n",
      "Epoch 167/200\n",
      "125/125 [==============================] - 1s 10ms/step - loss: 2113.5416 - accuracy: 0.0000e+00\n",
      "Epoch 168/200\n",
      "125/125 [==============================] - 1s 11ms/step - loss: 2004.7075 - accuracy: 0.0000e+00\n",
      "Epoch 169/200\n",
      "125/125 [==============================] - 1s 10ms/step - loss: 2080.9218 - accuracy: 0.0000e+00\n",
      "Epoch 170/200\n",
      "125/125 [==============================] - 1s 10ms/step - loss: 2189.0271 - accuracy: 0.0000e+00\n",
      "Epoch 171/200\n",
      "125/125 [==============================] - 1s 11ms/step - loss: 2056.4582 - accuracy: 0.0000e+00\n",
      "Epoch 172/200\n",
      "125/125 [==============================] - 1s 11ms/step - loss: 2113.6893 - accuracy: 0.0000e+00\n",
      "Epoch 173/200\n",
      "125/125 [==============================] - 1s 10ms/step - loss: 1976.5945 - accuracy: 0.0000e+00\n",
      "Epoch 174/200\n",
      "125/125 [==============================] - 1s 10ms/step - loss: 2161.7855 - accuracy: 0.0000e+00\n",
      "Epoch 175/200\n",
      "125/125 [==============================] - 1s 10ms/step - loss: 2202.6488 - accuracy: 0.0000e+00\n",
      "Epoch 176/200\n",
      "125/125 [==============================] - 1s 10ms/step - loss: 2042.4934 - accuracy: 0.0000e+00\n",
      "Epoch 177/200\n",
      "125/125 [==============================] - 1s 10ms/step - loss: 2077.3664 - accuracy: 0.0000e+00\n",
      "Epoch 178/200\n",
      "125/125 [==============================] - 1s 10ms/step - loss: 2006.4365 - accuracy: 0.0000e+00\n",
      "Epoch 179/200\n",
      "125/125 [==============================] - 1s 10ms/step - loss: 2017.1145 - accuracy: 0.0000e+00\n",
      "Epoch 180/200\n",
      "125/125 [==============================] - 1s 10ms/step - loss: 1989.2073 - accuracy: 0.0000e+00\n",
      "Epoch 181/200\n",
      "125/125 [==============================] - 1s 10ms/step - loss: 2113.8317 - accuracy: 0.0000e+00\n",
      "Epoch 182/200\n",
      "125/125 [==============================] - 1s 10ms/step - loss: 1961.8479 - accuracy: 0.0000e+00\n",
      "Epoch 183/200\n",
      "125/125 [==============================] - 1s 10ms/step - loss: 2146.3522 - accuracy: 0.0000e+00\n",
      "Epoch 184/200\n",
      "125/125 [==============================] - 1s 10ms/step - loss: 2134.5737 - accuracy: 0.0000e+00\n",
      "Epoch 185/200\n",
      "125/125 [==============================] - 1s 10ms/step - loss: 2001.4152 - accuracy: 0.0000e+00\n",
      "Epoch 186/200\n",
      "125/125 [==============================] - 1s 10ms/step - loss: 2005.5568 - accuracy: 0.0000e+00\n",
      "Epoch 187/200\n",
      "125/125 [==============================] - 1s 11ms/step - loss: 2031.2380 - accuracy: 0.0000e+00\n",
      "Epoch 188/200\n",
      "125/125 [==============================] - 1s 11ms/step - loss: 2029.0447 - accuracy: 0.0000e+00\n",
      "Epoch 189/200\n",
      "125/125 [==============================] - 1s 11ms/step - loss: 2074.8615 - accuracy: 0.0000e+00\n",
      "Epoch 190/200\n",
      "125/125 [==============================] - 1s 11ms/step - loss: 1981.7063 - accuracy: 0.0000e+00\n",
      "Epoch 191/200\n",
      "125/125 [==============================] - 1s 11ms/step - loss: 2054.0558 - accuracy: 0.0000e+00\n",
      "Epoch 192/200\n",
      "125/125 [==============================] - 1s 11ms/step - loss: 2049.0660 - accuracy: 0.0000e+00\n",
      "Epoch 193/200\n",
      "125/125 [==============================] - 1s 11ms/step - loss: 2117.2644 - accuracy: 0.0000e+00\n",
      "Epoch 194/200\n",
      "125/125 [==============================] - 1s 10ms/step - loss: 2100.9705 - accuracy: 0.0000e+00\n",
      "Epoch 195/200\n",
      "125/125 [==============================] - 1s 10ms/step - loss: 2158.2146 - accuracy: 0.0000e+00\n",
      "Epoch 196/200\n",
      "125/125 [==============================] - 1s 10ms/step - loss: 1987.8687 - accuracy: 0.0000e+00\n",
      "Epoch 197/200\n",
      "125/125 [==============================] - 1s 10ms/step - loss: 2087.8598 - accuracy: 0.0000e+00\n",
      "Epoch 198/200\n",
      "125/125 [==============================] - 1s 10ms/step - loss: 1998.2480 - accuracy: 0.0000e+00\n",
      "Epoch 199/200\n",
      "125/125 [==============================] - 1s 11ms/step - loss: 2074.0082 - accuracy: 0.0000e+00\n",
      "Epoch 200/200\n",
      "125/125 [==============================] - 1s 11ms/step - loss: 1937.3181 - accuracy: 0.0000e+00\n"
     ]
    },
    {
     "data": {
      "text/plain": [
       "<tensorflow.python.keras.callbacks.History at 0x16e699a9f10>"
      ]
     },
     "execution_count": 36,
     "metadata": {},
     "output_type": "execute_result"
    }
   ],
   "source": [
    "model = Sequential()\n",
    "\n",
    "#Adding the first LSTM layer and some Dropout regularisation\n",
    "model.add(LSTM(units = 50, return_sequences = True, input_shape = (X_train.shape[1], 1)))\n",
    "model.add(Dropout(0.2))\n",
    "\n",
    "# # Adding a second LSTM layer and some Dropout regularisation\n",
    "# model.add(LSTM(units = 50, return_sequences = True))\n",
    "# model.add(Dropout(0.2))\n",
    "\n",
    "# Adding a fourth LSTM layer and some Dropout regularisation\n",
    "model.add(LSTM(units = 50))\n",
    "model.add(Dropout(0.2))\n",
    "\n",
    "# Adding the output layer\n",
    "model.add(Dense(units = 1))\n",
    "\n",
    "# Compiling the RNN\n",
    "model.compile(optimizer = 'adam', loss = 'mean_squared_error', metrics=['accuracy'])\n",
    "\n",
    "# Fitting the RNN to the Training set\n",
    "model.fit(X_train, y_train, epochs = 200, batch_size = 32)"
   ]
  },
  {
   "cell_type": "code",
   "execution_count": 37,
   "metadata": {},
   "outputs": [],
   "source": [
    "X_test = []\n",
    "y_test = []\n",
    "for i in range(lag+lag, len(test_set)-lag):\n",
    "    X_test.append(test_set[i-lag:i, 0])\n",
    "    y_test.append(test_set[i+lag, 0])\n",
    "X_test, y_test = np.array(X_test).astype('float32'), np.array(y_test).astype('float32')\n",
    "X_test = np.reshape(X_test, (X_test.shape[0], X_test.shape[1], 1))\n",
    "predicted_stock_price = model.predict(X_test)"
   ]
  },
  {
   "cell_type": "code",
   "execution_count": 38,
   "metadata": {},
   "outputs": [
    {
     "data": {
      "image/png": "[encoded data removed]",
      "text/plain": [
       "<Figure size 432x288 with 1 Axes>"
      ]
     },
     "metadata": {
      "needs_background": "light"
     },
     "output_type": "display_data"
    }
   ],
   "source": [
    "# Visualising the results\n",
    "plt.plot(y_test[0:1000], color = 'red', label = 'Real Blood Sugar')\n",
    "plt.plot(predicted_stock_price[0:1000], color = 'blue', label = 'Predicted Blood Sugar')\n",
    "plt.title('FB Stock Price Prediction')\n",
    "plt.xlabel('Time')\n",
    "plt.ylabel('FB Stock Price')\n",
    "plt.legend()\n",
    "plt.show()"
   ]
  },
  {
   "cell_type": "code",
   "execution_count": 39,
   "metadata": {},
   "outputs": [],
   "source": [
    "rms = mean_squared_error(y_test, predicted_stock_price, squared=False)"
   ]
  },
  {
   "cell_type": "code",
   "execution_count": 40,
   "metadata": {},
   "outputs": [
    {
     "data": {
      "text/plain": [
       "45.42682"
      ]
     },
     "execution_count": 40,
     "metadata": {},
     "output_type": "execute_result"
    }
   ],
   "source": [
    "rms"
   ]
  }
 ],
 "metadata": {
  "kernelspec": {
   "display_name": "Python 3",
   "language": "python",
   "name": "python3"
  },
  "language_info": {
   "codemirror_mode": {
    "name": "ipython",
    "version": 3
   },
   "file_extension": ".py",
   "mimetype": "text/x-python",
   "name": "python",
   "nbconvert_exporter": "python",
   "pygments_lexer": "ipython3",
   "version": "3.8.5"
  }
 },
 "nbformat": 4,
 "nbformat_minor": 4
}
